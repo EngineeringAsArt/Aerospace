{
 "cells": [
  {
   "cell_type": "markdown",
   "metadata": {},
   "source": [
    "# <span style='color:red'> Electric Aircraft Design </span>\n",
    "&nbsp;    \n",
    "A tool for scaling analysis of aircraft from prototype to full-scale aircraft\n",
    "&nbsp;  \n",
    "&nbsp;  \n",
    "&nbsp;  \n",
    "\n",
    "Prepared by William Schram  \n",
    "  \n",
    "B.S. Mechanical Engineering, Cal Poly SLO  \n",
    "M.S. Management Science and Engineering, Stanford  \n",
    "Commercial Instrument Pilot, CFI, CFII  \n",
    "  \n",
    "Last Revision: October 16, 2023  "
   ]
  },
  {
   "cell_type": "markdown",
   "metadata": {
    "toc": true
   },
   "source": [
    "<h1>Table of Contents<span class=\"tocSkip\"></span></h1>\n",
    "<div class=\"toc\"><ul class=\"toc-item\"><li><span><a href=\"#Import-Libraries\" data-toc-modified-id=\"Import-Libraries-1\"><span class=\"toc-item-num\">1&nbsp;&nbsp;</span>Import Libraries</a></span></li><li><span><a href=\"#Problem\" data-toc-modified-id=\"Problem-2\"><span class=\"toc-item-num\">2&nbsp;&nbsp;</span>Problem</a></span></li><li><span><a href=\"#Given\" data-toc-modified-id=\"Given-3\"><span class=\"toc-item-num\">3&nbsp;&nbsp;</span>Given</a></span></li><li><span><a href=\"#Assumptions\" data-toc-modified-id=\"Assumptions-4\"><span class=\"toc-item-num\">4&nbsp;&nbsp;</span>Assumptions</a></span></li><li><span><a href=\"#Analysis\" data-toc-modified-id=\"Analysis-5\"><span class=\"toc-item-num\">5&nbsp;&nbsp;</span>Analysis</a></span><ul class=\"toc-item\"><li><span><a href=\"#Weight-of-Vehicle\" data-toc-modified-id=\"Weight-of-Vehicle-5.1\"><span class=\"toc-item-num\">5.1&nbsp;&nbsp;</span>Weight of Vehicle</a></span></li><li><span><a href=\"#Airfoil-Selection\" data-toc-modified-id=\"Airfoil-Selection-5.2\"><span class=\"toc-item-num\">5.2&nbsp;&nbsp;</span>Airfoil Selection</a></span></li><li><span><a href=\"#Power-from-Velocity-Requirement\" data-toc-modified-id=\"Power-from-Velocity-Requirement-5.3\"><span class=\"toc-item-num\">5.3&nbsp;&nbsp;</span>Power from Velocity Requirement</a></span></li><li><span><a href=\"#Electric-Battery-Pack-Specifications\" data-toc-modified-id=\"Electric-Battery-Pack-Specifications-5.4\"><span class=\"toc-item-num\">5.4&nbsp;&nbsp;</span>Electric Battery Pack Specifications</a></span></li></ul></li><li><span><a href=\"#Aircraft-Performance\" data-toc-modified-id=\"Aircraft-Performance-6\"><span class=\"toc-item-num\">6&nbsp;&nbsp;</span>Aircraft Performance</a></span></li><li><span><a href=\"#Results\" data-toc-modified-id=\"Results-7\"><span class=\"toc-item-num\">7&nbsp;&nbsp;</span>Results</a></span></li><li><span><a href=\"#Additional-Thoughts\" data-toc-modified-id=\"Additional-Thoughts-8\"><span class=\"toc-item-num\">8&nbsp;&nbsp;</span>Additional Thoughts</a></span></li><li><span><a href=\"#Appendix:-Hobby-Motor-Specifications\" data-toc-modified-id=\"Appendix:-Hobby-Motor-Specifications-9\"><span class=\"toc-item-num\">9&nbsp;&nbsp;</span>Appendix: Hobby Motor Specifications</a></span></li><li><span><a href=\"#Brushless-Motor-Design-Tools\" data-toc-modified-id=\"Brushless-Motor-Design-Tools-10\"><span class=\"toc-item-num\">10&nbsp;&nbsp;</span>Brushless Motor Design Tools</a></span><ul class=\"toc-item\"><li><span><a href=\"#Conductor-Lenght-per-Phase\" data-toc-modified-id=\"Conductor-Lenght-per-Phase-10.1\"><span class=\"toc-item-num\">10.1&nbsp;&nbsp;</span>Conductor Lenght per Phase</a></span></li><li><span><a href=\"#Brushless-Motor-Parameterization\" data-toc-modified-id=\"Brushless-Motor-Parameterization-10.2\"><span class=\"toc-item-num\">10.2&nbsp;&nbsp;</span>Brushless Motor Parameterization</a></span></li></ul></li></ul></div>"
   ]
  },
  {
   "cell_type": "markdown",
   "metadata": {},
   "source": [
    "## Import Libraries"
   ]
  },
  {
   "cell_type": "code",
   "execution_count": 1,
   "metadata": {
    "deletable": false,
    "editable": false
   },
   "outputs": [],
   "source": [
    "from math import pi as pi\n",
    "from math import atan as atan\n",
    "from math import sin as sin\n",
    "from math import cos as cos\n",
    "from math import log10 as log10\n",
    "from math import degrees as degrees\n",
    "from math import sqrt as sqrt"
   ]
  },
  {
   "cell_type": "markdown",
   "metadata": {},
   "source": [
    "## Problem"
   ]
  },
  {
   "cell_type": "markdown",
   "metadata": {},
   "source": [
    "Determine Runtime and Range for an Electric Drone Aircraft, given Weight, Speed, and Battery \n",
    "Capacity Parameters.\n"
   ]
  },
  {
   "cell_type": "markdown",
   "metadata": {},
   "source": [
    "<b>Vehicle Specifications:</b>  \n",
    ">Wing span : 2122mm  \n",
    "Wing area : 80dm2  \n",
    "Valid payload : 1000-2000g  \n",
    "\n",
    "<b>Required for flying :</b>  \n",
    ">Propeller: 12x6 or 12x8 (Foldable);  \n",
    "Servos: 2 * 20g (the size of servo hole on the plane is 40*40mm);  \n",
    "Controlller: 60A ESC or bigger;  \n",
    "Capacity: 4s 6000---10000 mah li-Ion \n",
    "\n",
    "<b>Ideal Capabilities:</b>  \n",
    ">60 knots cruise speed  \n",
    "\\> 40 mi range  \n",
    "\\> 30 min Flight Duration "
   ]
  },
  {
   "cell_type": "markdown",
   "metadata": {},
   "source": [
    "<b>Future Upgrades:</b>  \n",
    ">0) Stall speed  \n",
    "1) Renolds number: Laminar vs. Turbulent transition  \n",
    "2) Verify atan() is in correct units!  "
   ]
  },
  {
   "cell_type": "markdown",
   "metadata": {},
   "source": [
    "## Given"
   ]
  },
  {
   "cell_type": "code",
   "execution_count": 7,
   "metadata": {
    "deletable": false,
    "editable": false
   },
   "outputs": [],
   "source": [
    "## Air Properties:\n",
    "T_0 = 15 # [C], Temperature 12-15*C\n",
    "P_0 = 101.325 # [N/m^2], Pressure (Standard)\n",
    "R_0 = 0.3 # [-], Relative Humidity\n",
    "RHO = 1.225 # [kg/m^3], Density # Pulled from EES\n",
    "MU = 1.801e-5 # Dynamic Viscosity # Pulled from EES\n",
    "NU = MU/RHO # [m^2/s], Kinematic Viscosity: ~1.477E-5 [m^2/s]\n",
    "\n",
    "## Vehicle / Wing Parameters:\n",
    "A_p = 0.8 # [m^2], Area Projected\n",
    "b = 2.122 # [m], Wingspan Length (Projected)\n",
    "c =  0.4 # [m], Chord Length (Projected, Nominal) # Width 'W'\n",
    "# ar = 3.0 # [-], Aspect Ratio (Projected) # This Value is Calculated\n",
    "\n",
    "## Weight of Vehicle:\n",
    "g = 9.807 # [m/s^2], Acceleration from gravity\n",
    "m_payload = 1.0 # [kg], 1-2 Kg payload capacity\n",
    "m_aircraft = 3.5 # [kg]\n",
    "m_batteries = 1 * 0.495 # [kg] # 0.980 kg = 980 gm\n",
    "# m_cell = .245 # [kg], 980 gm / 4\n",
    "m_motor = 0.132 # [kg]\n",
    "\n",
    "## Speed in Flight\n",
    "velocity_kts = 60 # [knots = km/hr]"
   ]
  },
  {
   "cell_type": "markdown",
   "metadata": {},
   "source": [
    "## Assumptions"
   ]
  },
  {
   "cell_type": "code",
   "execution_count": 8,
   "metadata": {
    "deletable": false,
    "editable": false
   },
   "outputs": [],
   "source": [
    "# 1) Rigid Body, Static vehicle dynamics traveling at v_bar\n",
    "# 2) Turbulent Air Flow, Turbulent Flow == Re > 5x10^5\n",
    "# 3) No Efficiency loss for the Motor / Controller\n",
    "# 4) Discharge Safety factor of : 0.6\n",
    "SF_Discharge = 0.65\n",
    "# 5) Glide Ratio: i.e. 12:1  Source: https://en.wikipedia.org/wiki/Lift-to-drag_ratio\n",
    "horizontal = 12.0; vertical = 1.0"
   ]
  },
  {
   "cell_type": "markdown",
   "metadata": {},
   "source": [
    "## Analysis"
   ]
  },
  {
   "cell_type": "markdown",
   "metadata": {},
   "source": [
    "### Weight of Vehicle"
   ]
  },
  {
   "cell_type": "code",
   "execution_count": 9,
   "metadata": {
    "deletable": false,
    "editable": false
   },
   "outputs": [
    {
     "name": "stdout",
     "output_type": "stream",
     "text": [
      "Mass = 5.13 [Kg]\n",
      "Weight = 50.28 [N] = 11.3 [lb_f]\n"
     ]
    }
   ],
   "source": [
    "## Mass, Weight\n",
    "m = m_payload + m_aircraft + m_batteries + m_motor; print('Mass =', round(m,2), '[Kg]') # [Kg]\n",
    "W = m * g;\n",
    "W_Eng = W * (1/4.4482) # [lb_f], (1 lb_f / 4.4482 N)\n",
    "print('Weight =', round(W,2), '[N]','=',round(W_Eng,2),'[lb_f]') # [N]"
   ]
  },
  {
   "cell_type": "markdown",
   "metadata": {},
   "source": [
    "### Airfoil Selection"
   ]
  },
  {
   "cell_type": "markdown",
   "metadata": {},
   "source": [
    "Pg 376 - Fundamentals of Aerodynamics\n",
    "\n",
    "<b>Airfoil Selection Literature:</b>  \n",
    "\n",
    "<i>Fundamentals of Aerodynamics 6ed., 2017</i>  \n",
    "Pg. 478-9: NACA 2412 Wing section\n",
    "\n",
    "<i>NASA Low and Medium Speed Airfoils Development - NASA TM 78709 \\[1980\\]</i>\n",
    "  \n",
    "Low-speed airfoils:    \n",
    "C_L = 0.4\n",
    "Re = 2*10^6 - 9x10^6  \n",
    "Thickness-chord ratio = .13 for C_L >2  \n",
    "\n",
    "Medium-speed airfoils (Ex. Cessna 303, and Hustler - American Jet ):  \n",
    "C_L = 0.3  \n",
    "Re = 14*10^6  \n",
    "Thickness-chord ratio = .13 and .17  \n",
    "Mach = 0.72 and 0.68  \n",
    "\n",
    "Airfoil Examples: NASA LS(1)-0417, NASA LS(1)-0409, NASA LS(1)-0413"
   ]
  },
  {
   "cell_type": "code",
   "execution_count": 10,
   "metadata": {
    "deletable": false,
    "editable": false
   },
   "outputs": [],
   "source": [
    "## Assume a Airfoil -> C_L and C_D at Alpha, angle of attack, equals 0 [Rad].\n",
    "# C_L = 0.25; C_D = 0.01 # NACA 2412\n",
    "C_L = 0.4; C_D = .007 # NASA LS(1)-0413\n",
    "# C_L = 0.44; C_D = 0.011 # NASA LS(1)-0417: 2.0E6 to 6.0E6"
   ]
  },
  {
   "cell_type": "code",
   "execution_count": 11,
   "metadata": {
    "deletable": false,
    "editable": false
   },
   "outputs": [
    {
     "name": "stdout",
     "output_type": "stream",
     "text": [
      "Aspect Ratio = 5.63 [-]\n"
     ]
    }
   ],
   "source": [
    "ar = b**2/A_p; print('Aspect Ratio =', round(ar,2), '[-]')\n",
    "# taper_ratio = c_root / c_tip"
   ]
  },
  {
   "cell_type": "markdown",
   "metadata": {},
   "source": [
    "### Power from Velocity Requirement"
   ]
  },
  {
   "cell_type": "code",
   "execution_count": 12,
   "metadata": {
    "deletable": false,
    "editable": false
   },
   "outputs": [
    {
     "name": "stdout",
     "output_type": "stream",
     "text": [
      "Velocity = 60 [kts] = 30.86 [m/s] = 69.05 [mi/hr]\n",
      "Dynamic Pressure = 583.46 [Kg/m^2]\n",
      "Force of Drag = 3.27 [N]\n",
      "Power = 100.84 [W or N-m/s] = 0.1352 [Hp]\n"
     ]
    }
   ],
   "source": [
    "## V_cruise: Power to obtain cruise velocity  \n",
    "# W = 1/2 * rho * velocity_ss ** 2 * A_p *C_L , Solve for Velocity  \n",
    "# velocity_ss = sqrt(2 * W / (RHO * A_p * C_L)); # [m/s]  \n",
    "velocity_ms = velocity_kts * (0.5144) # [kts]->[m/s]  \n",
    "velocity_mph = velocity_kts * (1.1508); # [kts]->[mi/hr]  \n",
    "print('Velocity =',round(velocity_kts,2),'[kts]','=',round(velocity_ms,2),'[m/s]','=',round(velocity_mph,2),'[mi/hr]')  \n",
    "\n",
    "q = (1/2) * RHO * velocity_ms**2; print('Dynamic Pressure =', round(q,2),'[Kg/m^2]') # dynamic pressure  \n",
    "F_Drag = q * A_p * C_D; print('Force of Drag =', round(F_Drag,2), '[N]') # [N], Force of Drag  \n",
    "\n",
    "P_Shaft = F_Drag * velocity_ms; # [W]  \n",
    "P_HP = P_Shaft * (1/745.7) # [W] to [Hp]  \n",
    "print('Power =', round(P_Shaft,2),'[W or N-m/s]', '=', round(P_HP,4), '[Hp]')  "
   ]
  },
  {
   "cell_type": "code",
   "execution_count": 133,
   "metadata": {
    "deletable": false,
    "editable": false,
    "run_control": {
     "frozen": true
    }
   },
   "outputs": [
    {
     "name": "stdout",
     "output_type": "stream",
     "text": [
      "Velocity_stall = 31.13 [kts] = 16.02 [m/s] = 35.83 [mi/hr]\n",
      "dynamic pressure = 157.13 [Kg/m^2]\n",
      "Force of Drag = 0.88 [N]\n",
      "Power = 14.09 [W or N-m/s] = 0.0189 [Hp]\n"
     ]
    }
   ],
   "source": [
    "## C_d_min: Power to Remain Aloft at Economy Cruise (Less than required velocity)\n",
    "# At level flight, Weight = Lift, therefore,\n",
    "# W = 1/2 * rho * velocity_ss**2 * A_p *C_L , Solve for Velocity\n",
    "velocity_ms = sqrt(2*W/(RHO * A_p * C_L)); # [m/s]\n",
    "velocity_kts = velocity_ms *(1.9438/1);\n",
    "velocity_mph = velocity_ms * (2.2369/1);\n",
    "print('Velocity_stall =', round(velocity_kts,2),'[kts]','=', round(velocity_ms,2),'[m/s]','=', round(velocity_mph,2),'[mi/hr]')\n",
    "\n",
    "q = (1/2) * RHO * velocity_ms**2; print('dynamic pressure =', round(q,2),'[Kg/m^2]') # Dynamic Pressure  \n",
    "F_Drag = q * A_p * C_D; print('Force of Drag =', round(F_Drag,2), '[N]') # Force of Drag\n",
    "\n",
    "P_Shaft = F_Drag * velocity_ms; \n",
    "P_HP = P_Shaft * (1/745.7) # Watts to Horsepower\n",
    "print('Power =', round(P_Shaft,2),'[W or N-m/s]', '=', round(P_HP,4), '[Hp]')"
   ]
  },
  {
   "cell_type": "markdown",
   "metadata": {},
   "source": [
    "<b>Note:</b>  \n",
    "• Hydrogen fuel cell and tank can deliver 800W for one hour  \n",
    "• Lithium ion can deliver 500W for 20 minutes  \n",
    "• Everthing else is piston or turbine powered!"
   ]
  },
  {
   "cell_type": "markdown",
   "metadata": {},
   "source": [
    "### Electric Battery Pack Specifications"
   ]
  },
  {
   "cell_type": "code",
   "execution_count": 13,
   "metadata": {
    "deletable": false,
    "editable": false
   },
   "outputs": [],
   "source": [
    "## Select Cell Chemistry\n",
    "# -------- Li-ION Cells -------- (from Upgrade Energy)\n",
    "V_Cell_Max = 4.2 # [v], Volts/Cell, Max Voltage\n",
    "V_Cell_Min = 2.7 # Min Charge\n",
    "Capacity_Cell = 1.05 # [A-h], Capacity/Cell\n",
    "Discharge_Rate = 25 # [c], coulombs # I_cont. = A-h * C\" \"Guess\"\n",
    "I_cont = 45 # [A]\n",
    "T_max = 140 # [°F]\n",
    "\n",
    "# -------- LiPO Cells --------\n",
    "# V_Cell_Max = 3.7 # [v], Volts/Cell, Max Voltage\n",
    "# V_Cell_Min = 2.4 # Min Charge\n",
    "# Capacity_Cell = 2.5 # [A-h], Capacity/Cell\n",
    "# Discharge_Rate = 25 # [c], coulombs # I_cont. = A-h * C\" \"Guess\"\n",
    "# I_cont = 50 # [A]"
   ]
  },
  {
   "cell_type": "code",
   "execution_count": 14,
   "metadata": {
    "deletable": false,
    "editable": false
   },
   "outputs": [
    {
     "name": "stdout",
     "output_type": "stream",
     "text": [
      "Battery Voltage = 13.8 [V] ( 16.8 - 10.8 [V] )\n",
      "Capacity = 8.4 [A-h]\n",
      "Energy = 115.92 [W-h]\n",
      "I_Continuous = 90 [A]\n"
     ]
    }
   ],
   "source": [
    "## ------- Battery(s) --------  \n",
    "s = 4 # Cells in Series  \n",
    "p = 2 # Cells in Parallel  \n",
    "numOfCells = s * p  \n",
    "\n",
    "# 4s=14.8V, 6s=22.2V, 8s=29V 10S=37V, 12S=42V\"  \n",
    "V_Min = V_Cell_Min * s  \n",
    "V_Max = V_Cell_Max * s # Max Charge (3.65 or 3.7???)  \n",
    "V = (V_Max + V_Min)/2; print('Battery Voltage =', round(V,2),'[V]', '(',V_Max,'-',V_Min,'[V] )' )  \n",
    "\n",
    "Capacity_Battery = Capacity_Cell * s * p; print('Capacity =', round(Capacity_Battery,2),'[A-h]')  \n",
    "NRG_Battery = Capacity_Battery * V; print('Energy =', round(NRG_Battery,2), '[W-h]')  \n",
    "I_Battery_Continuous = p * I_cont; print('I_Continuous =',round(I_Battery_Continuous,2), '[A]') # I = 90 [A]  "
   ]
  },
  {
   "cell_type": "code",
   "execution_count": 15,
   "metadata": {
    "deletable": false,
    "editable": false
   },
   "outputs": [
    {
     "name": "stdout",
     "output_type": "stream",
     "text": [
      "Current in Level Flight = 7.31 [A]\n"
     ]
    }
   ],
   "source": [
    "## Supply Current\n",
    "# 7 Amps for a flying wing, source: Randy Snowder, https://vimeo.com/41306784\n",
    "I = P_Shaft / V; print('Current in Level Flight =', round(I,2), '[A]')"
   ]
  },
  {
   "cell_type": "code",
   "execution_count": 41,
   "metadata": {
    "deletable": false,
    "editable": false
   },
   "outputs": [],
   "source": [
    "## ------- Brushless Motor Parameterization: -----------  \n",
    "# See Hendershot and Miller for more information on motor constants.  \n",
    "# To compare the following are needed:  kv [rpm/V], resistance [ohm], No-load Current [A],\n",
    "#                                       Dimensions, Recommended Propeller Size\n",
    "\n",
    "## T-motor for Hexsoon 450\n",
    "K_v = 880 # [rpm/V], See note 2.\n",
    "R_w = 0.115 # [Ohm] Alibaba 115+/-15mohms, Assume linetoline -> R_phase = 3/2 R_linetoline for Delta wound, 1/2 for wye wound\n",
    "I_No_Load = 0.08 # [A/V], Alibaba: 0.6-0.8A at 10V\n",
    "## Prop T-motor - T1045\n",
    "# Optimal RPM 6000-7000 RPM\n",
    "\n",
    "## Calcs\n",
    "R_phase = 3/2 * R_w\n",
    "I_0 = I_No_Load * V # I_0 = 2.08 # [A], No Load Current at rated voltage (10V Default)\n",
    "Kq= 60/(2*pi) * sqrt(3/2) * K_v # [-], Torque Constant, second term accounts for note 2.\n",
    "\n",
    "# Note(s):  \n",
    "# 1. List of other motor specs is in the appendix.\n",
    "# 2. K_v is line-to-line voltage not phase voltage, which underestimates delta wound torque by sqrt(2/3)\n",
    "#    & overestimates wye wound torque by sqrt(2). https://youtu.be/jrWDBkeOVQY?si=rGsagyh8TB_5rONt&t=719"
   ]
  },
  {
   "cell_type": "markdown",
   "metadata": {},
   "source": [
    "<img src=\"TMotor_AIR2216.png\" width=800 height=400>"
   ]
  },
  {
   "cell_type": "code",
   "execution_count": 43,
   "metadata": {
    "deletable": false,
    "editable": false,
    "scrolled": true
   },
   "outputs": [
    {
     "name": "stdout",
     "output_type": "stream",
     "text": [
      "N_motor = 11034 [rpm]\n",
      "P_Motor = 100.84 [W]\n",
      "Motor Efficiency = 75.8 [%]\n",
      "Torque = 0.066 [N-m] = 0.049 [lb_f-ft] = 0.585 [lb_f-in]\n",
      "Battery Runtime = 1.15 [hr] = 68.97 [min]\n"
     ]
    }
   ],
   "source": [
    "## Rotations and Torque at current I and voltage V  \n",
    "N_Motor = K_v * (V - I * R_phase); print('N_motor =', int(N_Motor), '[rpm]') # N_motor = Kv * (Vin - VLoss), Ideally 7.2k-10k [rpm]  \n",
    "omega = N_motor * (2*pi) / 60 # [rad/sec]  \n",
    "# TAU_SI = Kq * (I - I_0) # [N-m], Torque = Kq * (I - Io) # If k_q is known!   \n",
    "# TAU_Eng = TAU_SI * (0.7376/1); print('Torque =', round(TAU_Eng,2), '[ft-lb_f]') # (0.7376 lb_f / 1 N-m)\"\n",
    "\n",
    "## Motor Power, Efficiency and Heat at current (I)  \n",
    "P_Motor = I * V; print('P_Motor =', round(P_Motor,2), '[W]')  \n",
    "ETA_Motor = ( V*I - I**2*R_phase - V*I_0 ) / ( V*I ); print('Motor Efficiency =', round(ETA_Motor*100,1),'[%]') # \"Sn-B\"??\n",
    "Q_dot_Motor = I**2 * R_phase #(1-ETA_Motor) * (I * V) # [W], Resistive heat generated by motor  \n",
    "\n",
    "## Torque\n",
    "TAU_SI = ETA_Motor * P_motor * 9.549 / N_Motor; # [N-m]  \n",
    "TAU_Eng = TAU_SI * (0.7376/1); # (0.7376 lb_f / 1 N-m)\"  \n",
    "print('Torque =', round(TAU_SI,3), '[N-m] =', round(TAU_Eng,3), '[lb_f-ft] =', round(12*TAU_Eng,3), '[lb_f-in]');  \n",
    "\n",
    "Runtime = NRG_Battery / P_Motor # [h], Hours\"  \n",
    "Runtime_min = NRG_Battery / P_Motor * (60/1) # [min], (60min/1h)  \n",
    "print('Battery Runtime =', round(Runtime,2), '[hr] =', round(Runtime_min,2), '[min]')  "
   ]
  },
  {
   "cell_type": "code",
   "execution_count": 4,
   "metadata": {
    "deletable": false,
    "editable": false,
    "run_control": {
     "frozen": true
    }
   },
   "outputs": [
    {
     "data": {
      "text/plain": [
       "1.2400527041365477e-08"
      ]
     },
     "execution_count": 4,
     "metadata": {},
     "output_type": "execute_result"
    }
   ],
   "source": [
    "##  Inductance of Brushless AC Motor (Ns=10,Nr=12)\n",
    "num_poles = 10 # [-]\n",
    "mew = 1.25663753 * 10**(-6) # permeability of air = 1.25663753×10−6\n",
    "N = 4 # Number of turns per pole\n",
    "A = .023**2 / 2 # [m^2]\n",
    "l = 4.2886 # [m] # lenght of the wire\n",
    "L_pole = mew * N**2 * A / l # Inductance of a pole\n",
    "L = num_poles * L_pole; L # [H] "
   ]
  },
  {
   "cell_type": "markdown",
   "metadata": {},
   "source": [
    "## Aircraft Performance"
   ]
  },
  {
   "cell_type": "code",
   "execution_count": 17,
   "metadata": {
    "deletable": false,
    "editable": false
   },
   "outputs": [
    {
     "name": "stdout",
     "output_type": "stream",
     "text": [
      "Alpha =  4.76 Degrees\n",
      "AR =  5.63 [-]\n"
     ]
    }
   ],
   "source": [
    "## ------- Wing Parameters: Lift, Drag, and Thrust Forces...: ---------\n",
    "Alpha = atan(vertical/horizontal) # [Rad]\n",
    "print('Alpha = ', round(degrees(Alpha),2),'Degrees') # [Degrees]\n",
    "\n",
    "ar_calc = b**2/(A_p); print('AR = ', round(ar_calc,2),'[-]')"
   ]
  },
  {
   "cell_type": "code",
   "execution_count": 20,
   "metadata": {
    "deletable": false,
    "editable": false
   },
   "outputs": [
    {
     "name": "stdout",
     "output_type": "stream",
     "text": [
      "F_Lift = 50.45 [N]\n",
      "F_Drag = 4.19 [N]\n",
      "C_L_calc = 0.1081 [-]\n",
      "Reynold's Number = 8.40E+05 [-]\n"
     ]
    }
   ],
   "source": [
    "## ------- Summation of forces in X & Y --------\n",
    "# Equ 1: Sum(F_y) = 0\n",
    "#        F_Lift*cos(Alpha) - m*g = 0 # [N]\n",
    "F_Lift = m*g / cos(Alpha); print('F_Lift =', round(F_Lift,2), '[N]')\n",
    "\n",
    "# Equ 2: Sum(F_x) = 0\n",
    "#        F_Lift*sin(Alpha) - F_Drag = 0 # [N]\n",
    "F_Drag = F_Lift*sin(Alpha); print('F_Drag =', round(F_Drag,2), '[N]')\n",
    "\n",
    "# Equ 3: F_Lift = 1/2 * RHO * v_ss^2 * A_p * C_L # [N]\n",
    "#        C_L = F_Lift * 2 / (RHO * v_ss^2 * A_p) \n",
    "C_L_calc = F_Lift * 2 / (RHO * velocity_ms**2 * A_p); print('C_L_calc =', round(C_L_calc,4), '[-]') # Coefficient of Lift\n",
    "\n",
    "# Reynolds Number\n",
    "Re_L = (RHO * velocity_ms * c) / MU; print('Reynold\\'s Number =', f\"{Re_L:.2E}\", '[-]') # [-], OR v * c / NU"
   ]
  },
  {
   "cell_type": "code",
   "execution_count": 21,
   "metadata": {
    "deletable": false,
    "editable": false
   },
   "outputs": [
    {
     "name": "stdout",
     "output_type": "stream",
     "text": [
      "C_D_calc = 0.007 [-]\n",
      "Lift/Drag Ratio =  12 [-]\n"
     ]
    }
   ],
   "source": [
    "# Force of Drag, F_D\n",
    "C_D_calc = 0.455 / (log10(Re_L) )**(2.58) - 1610 / (Re_L); print('C_D_calc =', round(C_D,4), '[-]') # [Coeficient of Drag] \n",
    "# F_Drag = C_D_calc * 1/2 * RHO * v_ss**2 * A_p; print('F_Drag = ', round(F_Drag,2),'[N]') # [N]\n",
    "\n",
    "# CoefLiftToDragRatio = C_L_calc / C_D_calc;  print('Coef. Lift/Drag = ', int(CoefLiftToDragRatio),'[-]') # [-]\n",
    "LiftToDragRatio = F_Lift / F_Drag;  print('Lift/Drag Ratio = ', int(LiftToDragRatio),'[-]') # [-]"
   ]
  },
  {
   "cell_type": "code",
   "execution_count": 23,
   "metadata": {
    "deletable": false,
    "editable": false
   },
   "outputs": [
    {
     "name": "stdout",
     "output_type": "stream",
     "text": [
      "Velocity_ss =  69.05 [mi/hr]\n",
      "Horizontal Velocity_ss =  68.81 [mi/hr]\n",
      "Vertical Velocity_ss =  5.73 [mi/hr]\n"
     ]
    }
   ],
   "source": [
    "## ------- Convertion Metric to English: --------  \n",
    "velocity_ss_mph = velocity_ms * (2.23694/1); print('Velocity_ss = ', round(velocity_mph,2),'[mi/hr]') # m/s -> mi/hr\n",
    "velocity_x_mph = cos(Alpha) * velocity_mph; print('Horizontal Velocity_ss = ', round(velocity_x_mph,2),'[mi/hr]') # [mi/hr]\n",
    "velocity_y_mph = sin(Alpha) * velocity_mph; print('Vertical Velocity_ss = ', round(velocity_y_mph,2),'[mi/hr]') # [mi/hr]"
   ]
  },
  {
   "cell_type": "code",
   "execution_count": 24,
   "metadata": {
    "deletable": false,
    "editable": false
   },
   "outputs": [
    {
     "name": "stdout",
     "output_type": "stream",
     "text": [
      "Range =  79.36 mi\n"
     ]
    }
   ],
   "source": [
    "## ------- Range -------- \n",
    "Range = Runtime * velocity_ss_mph; print('Range = ', round(Range,2),'mi') # [mi]"
   ]
  },
  {
   "cell_type": "code",
   "execution_count": 27,
   "metadata": {
    "deletable": false,
    "editable": false
   },
   "outputs": [
    {
     "name": "stdout",
     "output_type": "stream",
     "text": [
      "Landing Distance, per FAR 25.125\n",
      "Air Distance = 273 [m] or 896 [ft]\n",
      "Ground Distance = 741 [m] or 2432 [ft]\n"
     ]
    }
   ],
   "source": [
    "## ------- Stopping Distance, per FAR 25.125 -------\n",
    "# Values are in the landing configuration, assume no flaps / spoilers\n",
    "# Then, \n",
    "v_50 = 1.3 * velocity_ms \n",
    "v_land = 1.25 * velocity_ms\n",
    "\n",
    "## Distance to clear 50ft object and touchdown\n",
    "## d_air = 50*(L/d_eff) + (v_50**2 - v_land**2)/(2a)\n",
    "## d_air = 50*LiftToDragRatio + (velocity_ss**2 - v_land**2)/(2a)\n",
    "## -OR- Assume: Lift = Weight\n",
    "## d_air = L/d_eff*(50 + 1/(2*g)*(v_50**2-v_land**2) )\n",
    "d_air = 50*LiftToDragRatio + LiftToDragRatio/(2*g)*(velocity_ms**2-v_land**2)\n",
    "d_air_ft = d_air*(3.2808/1)\n",
    "print('Landing Distance, per FAR 25.125')\n",
    "print('Air Distance =', int(d_air),'[m]','or', int(d_air_ft),'[ft]')\n",
    "\n",
    "## Ground deceleration distance\n",
    "## d_gnd = V_L**2/(2*a) = V_L**2*W/(2*g*R), where R = mew*(W-L)+D and mew is coef of friction, D=spoiler/flaps drag\n",
    "mew = 0.42 # Steel on steel\n",
    "R = mew*(W-F_Lift) + F_Drag\n",
    "d_gnd = 1.25*velocity_ms**2*W / (2*g*R)\n",
    "d_gnd_ft = d_gnd*(3.2808/1)\n",
    "print('Ground Distance =', int(d_gnd),'[m]','or', int(d_gnd_ft),'[ft]')"
   ]
  },
  {
   "cell_type": "markdown",
   "metadata": {},
   "source": [
    "## Results"
   ]
  },
  {
   "cell_type": "code",
   "execution_count": 28,
   "metadata": {
    "deletable": false,
    "editable": false
   },
   "outputs": [
    {
     "name": "stdout",
     "output_type": "stream",
     "text": [
      "Current in Level Flight = 7.31 [A]\n",
      "Battery Runtime = 1.15 [hr] = 69 [min]\n",
      "Range =  79.36 [mi]\n"
     ]
    }
   ],
   "source": [
    "print('Current in Level Flight =', round(I,2), '[A]')\n",
    "print('Battery Runtime =', round(Runtime,2), '[hr] =', round(Runtime_min), '[min]')  \n",
    "print('Range = ', round(Range,2),'[mi]') # [mi]"
   ]
  },
  {
   "cell_type": "markdown",
   "metadata": {
    "deletable": false,
    "editable": false
   },
   "source": [
    "## Additional Thoughts"
   ]
  },
  {
   "cell_type": "code",
   "execution_count": 119,
   "metadata": {
    "deletable": false,
    "editable": false,
    "run_control": {
     "frozen": true
    }
   },
   "outputs": [],
   "source": [
    "from scipy.optimize import fsolve\n",
    "\n",
    "import warnings\n",
    "warnings.filterwarnings('ignore')"
   ]
  },
  {
   "cell_type": "code",
   "execution_count": 130,
   "metadata": {
    "collapsed": true,
    "deletable": false,
    "editable": false,
    "run_control": {
     "frozen": true
    }
   },
   "outputs": [
    {
     "ename": "TypeError",
     "evalue": "fsolve() got an unexpected keyword argument 'Re_L0'",
     "output_type": "error",
     "traceback": [
      "\u001b[0;31m---------------------------------------------------------------------------\u001b[0m",
      "\u001b[0;31mTypeError\u001b[0m                                 Traceback (most recent call last)",
      "\u001b[0;32m<ipython-input-130-84948d6fc0cc>\u001b[0m in \u001b[0;36m<module>\u001b[0;34m\u001b[0m\n\u001b[1;32m     15\u001b[0m     \u001b[0;32mreturn\u001b[0m \u001b[0;34m-\u001b[0m\u001b[0mC_D\u001b[0m \u001b[0;34m+\u001b[0m \u001b[0;36m0.455\u001b[0m\u001b[0;34m/\u001b[0m\u001b[0;34m(\u001b[0m\u001b[0mlog10\u001b[0m\u001b[0;34m(\u001b[0m\u001b[0mRe_L\u001b[0m\u001b[0;34m)\u001b[0m\u001b[0;34m**\u001b[0m\u001b[0;34m(\u001b[0m\u001b[0;36m2.58\u001b[0m\u001b[0;34m)\u001b[0m\u001b[0;34m)\u001b[0m\u001b[0;34m\u001b[0m\u001b[0m\n\u001b[1;32m     16\u001b[0m \u001b[0;34m\u001b[0m\u001b[0m\n\u001b[0;32m---> 17\u001b[0;31m \u001b[0miter_solution\u001b[0m \u001b[0;34m=\u001b[0m \u001b[0mfsolve\u001b[0m\u001b[0;34m(\u001b[0m\u001b[0mRe_L_Laminar_Calc\u001b[0m\u001b[0;34m,\u001b[0m \u001b[0mRe_L0\u001b[0m\u001b[0;34m=\u001b[0m\u001b[0;36m500000\u001b[0m\u001b[0;34m)\u001b[0m \u001b[0;31m#\u001b[0m\u001b[0;34m\u001b[0m\u001b[0m\n\u001b[0m\u001b[1;32m     18\u001b[0m \u001b[0mRe_L_Lam\u001b[0m \u001b[0;34m=\u001b[0m \u001b[0miter_solution\u001b[0m\u001b[0;34m[\u001b[0m\u001b[0;36m0\u001b[0m\u001b[0;34m]\u001b[0m \u001b[0;31m# print(f\"{Re_L_Lam:.2E}\")\u001b[0m\u001b[0;34m\u001b[0m\u001b[0m\n\u001b[1;32m     19\u001b[0m \u001b[0;34m\u001b[0m\u001b[0m\n",
      "\u001b[0;31mTypeError\u001b[0m: fsolve() got an unexpected keyword argument 'Re_L0'"
     ]
    }
   ],
   "source": [
    "## Calculate Reynolds Number - Three range-based equations\n",
    "def Re_L_Laminar_Calc(Re_L):\n",
    "    '''    Reynolds Number, Laminar flow: Re_L < 5*10^5    '''\n",
    "    global C_D\n",
    "    return -C_D + 1.33/((Re_L)**(1/2))\n",
    "\n",
    "def Re_L_Turbulent_Calc(Re_L):\n",
    "    '''    Reynolds Number, Turbulent flow: 5*10^5 <= Re_L < 10^7    '''\n",
    "    global C_D\n",
    "    return -C_D + 0.0742/((Re_L)**(1/5))\n",
    "\n",
    "def Re_L_Turbulent2_Calc(Re_L):\n",
    "    '''    Reynolds Number, Turbulent flow: 10^7 <= Re_L < 10^9     '''\n",
    "    global C_D\n",
    "    return -C_D + 0.455/(log10(Re_L)**(2.58))\n",
    "\n",
    "iter_solution = fsolve(Re_L_Laminar_Calc, 500000) # \n",
    "Re_L_Lam = iter_solution[0] # print(f\"{Re_L_Lam:.2E}\")\n",
    "\n",
    "iter_solution = fsolve(Re_L_Turbulent_Calc, 500000) # \n",
    "Re_L_Turb = iter_solution[0] # print(f\"{Re_L_Turb:.2E}\") \n",
    "\n",
    "iter_solution = fsolve(Re_L_Turbulent2_Calc, 100000000) # \n",
    "Re_L_Turb2 = iter_solution[0] # print(f\"{Re_L_Turb2:.2E}\") \n",
    "\n",
    "if Re_L_Lam < 5*10**5:\n",
    "    Re_L = Re_L_Lam\n",
    "elif (Re_L_Turb >= 5*10**5) and (Re_L_Turb < 10**7):\n",
    "    Re_L = Re_L_Turb\n",
    "elif (Re_L_Turb >= 10**7) and (Re_L_Turb < 10**9):\n",
    "    Re_L = Re_L_Turb2\n",
    "else:\n",
    "    print('Equations for Reynold\\'s number > 10^9 needed!')\n",
    "\n",
    "print('Reynold\\'s Number =', f\"{Re_L:.2E}\", '[-]')"
   ]
  },
  {
   "cell_type": "markdown",
   "metadata": {},
   "source": [
    "• Hydrogen Tank can deliver 800W for one hour\n"
   ]
  },
  {
   "cell_type": "code",
   "execution_count": 17,
   "metadata": {
    "deletable": false,
    "editable": false,
    "run_control": {
     "frozen": true
    }
   },
   "outputs": [
    {
     "ename": "SyntaxError",
     "evalue": "invalid syntax (<ipython-input-17-fff32a162236>, line 26)",
     "output_type": "error",
     "traceback": [
      "\u001b[0;36m  File \u001b[0;32m\"<ipython-input-17-fff32a162236>\"\u001b[0;36m, line \u001b[0;32m26\u001b[0m\n\u001b[0;31m    if docking_pad_visible(up_image)[0]==True) and (delta_coord[3]<0.5):\u001b[0m\n\u001b[0m                                             ^\u001b[0m\n\u001b[0;31mSyntaxError\u001b[0m\u001b[0;31m:\u001b[0m invalid syntax\n"
     ]
    }
   ],
   "source": [
    "## Pseudo-code for docking mechanism\n",
    "'''\n",
    "Dock consists of four neodynium magnets horizontal (N) and verticle (S),\n",
    "in a cross configuration\n",
    "'''\n",
    "\n",
    "# Test: Method and hardware must work against a pulsed lawn blower!\n",
    "\n",
    "current_coord = (x,y,z,pitch,yaw,roll) # End of drone flight route\n",
    "dock_coord, delta_coord = request_dock_coord(current_coord) # (x,y,z,pitch,yaw,roll), yaw is compass heading\n",
    "\n",
    "start_dock_coord = berth_coord - (0,0,-10,0,0,0) # Third arg is offset in ft.\n",
    "go_to(start_dock_coord)\n",
    "\n",
    "def docking_pad_visible():\n",
    "    # detect two markers in center of image signifying roll and distance is within \n",
    "    # Z distance (+/-10ft) and yaw range (+/-10°)\n",
    "    return True, delta_coord\n",
    "\n",
    "def docking_procedure(coord, delta_coord):\n",
    "    velocity(0,0,+5,0,0,0)\n",
    "    go_to_delta(delta_coord)\n",
    "    \n",
    "while docked()==False:\n",
    "    request_dock_coordinate(current_coord)\n",
    "    if docking_pad_visible(up_image)[0]==True) and (delta_coord[3]<0.5):\n",
    "        docking_procedure(coord, docking_pad_visible(up_image)[1]) # Second arg is delta_coord\n",
    "    elif delta_coord[3]<0.5:\n",
    "        velocity(0,0,+1,0,0,0)\n",
    "        sleep.sleep(2) # sleep 2 seconds allowing the craft to press into the dock \n"
   ]
  },
  {
   "cell_type": "code",
   "execution_count": null,
   "metadata": {
    "deletable": false,
    "editable": false,
    "run_control": {
     "frozen": true
    }
   },
   "outputs": [],
   "source": [
    "## Iteratively solve for battery current\n",
    "from scipy.optimize import fsolve\n",
    "import numpy as np\n",
    "import warnings\n",
    "warnings.filterwarnings('ignore')\n",
    "\n",
    "def current_in_disguise(I):\n",
    "    '''\n",
    "    P_battery = Q_dot_Motor + P_Shaft\n",
    "    I * V = (V*I - I**2*R_w - V*I_0)/(V*I) + P_Shaft\n",
    "    0 = -I*V + (V*I - I**2*R_w - V*I_0)/(V*I) + P_Shaft\n",
    "    '''\n",
    "    global V, R_w, P_Shaft\n",
    "    return -I*V + (V*I - I**2*R_w - V*I_0) / (V*I) + P_Shaft\n",
    "\n",
    "iter_solution = fsolve(current_in_disguise, P_Shaft/V) # Approximation is Power / Voltage, \n",
    "I = iter_solution[0]\n",
    "print('Current =', round(I,2), '[A]')"
   ]
  },
  {
   "cell_type": "markdown",
   "metadata": {},
   "source": [
    "## Appendix: Hobby Motor Specifications"
   ]
  },
  {
   "cell_type": "code",
   "execution_count": null,
   "metadata": {
    "deletable": false,
    "editable": false,
    "run_control": {
     "frozen": true
    }
   },
   "outputs": [],
   "source": [
    "## SunnySky X3508S KV580 (Eff.=87%, price=$28)\n",
    "# Kv = 580\n",
    "# R_w = 0.135 # [Ohm]\n",
    "# # I_No_Load = 0.11 # [A/V]  \n",
    "# I_0 = 0.3 # I_No_Load * V # [A], No Load Current\n",
    "\n",
    "## TMAT2820 - 7 (Eff.=68%)\n",
    "# Kv = 830 # [rpm/V], TMAT2820-7: 830 rpm / Volt  \n",
    "# R_w = 0.030 # [Ohm], 0.0132ohm @ Y 730kv / 0.0046 @ DeLta 1280kv  \n",
    "# I_No_Load = 0.11 # [A/V]  \n",
    "# I_0 = I_No_Load * V # No Load Current: 1.1A/10V @ Y 730kv / 4.2 @ DeLta 1280kv  \n",
    "\n",
    "## Turnigy Multistar 3508-640Kv (Eff.=79%)\n",
    "# Kv = 640 # [rpm/V]\n",
    "# R_w = 0.12 # [Ohm]\n",
    "# # I_No_Load = 0.11 # [A/V]  \n",
    "# I_0 = 0.6 # I_No_Load * V # [A], No Load Current\n",
    "\n",
    "## Scorpion SII-3020-1110 (Eff.=37%)\n",
    "# Kv = 1110 # [rpm/V]\n",
    "# R_w = 0.016 # [Ohm]\n",
    "# # I_No_Load = 0.11 # [A/V]  \n",
    "# I_0 = 2.08 # I_No_Load * V # [A]\n",
    "\n"
   ]
  },
  {
   "cell_type": "markdown",
   "metadata": {},
   "source": [
    "## Brushless Motor Design Tools"
   ]
  },
  {
   "cell_type": "markdown",
   "metadata": {},
   "source": [
    "### Conductor Lenght per Phase"
   ]
  },
  {
   "cell_type": "code",
   "execution_count": 2,
   "metadata": {
    "deletable": false,
    "editable": false
   },
   "outputs": [
    {
     "name": "stdout",
     "output_type": "stream",
     "text": [
      "Right Triangle Coil Length, per Phase = 3.09 [m]\n"
     ]
    }
   ],
   "source": [
    "## Right Triangle Coil\n",
    "tail = 0.05 # 50mm Solder to flexible wires\n",
    "arm = 0.023 # m, or 23 mm\n",
    "coil_length = 2 * arm + (sqrt(2) * arm); # [m]\n",
    "poles = 6 # [-]  \n",
    "turns_per_pole = 6 # [-]  \n",
    "winding_diameter = .051 # [m]\n",
    "#      Total Length = Tails + Circle Length + Turns  \n",
    "winding_length = (2 * tail) + (3.1415 * winding_diameter) + (poles * turns_per_pole * coil_length); \n",
    "print('Right Triangle Coil Length, per Phase =', round(winding_length,2), '[m]' )"
   ]
  },
  {
   "cell_type": "markdown",
   "metadata": {},
   "source": [
    "### Brushless Motor Parameterization"
   ]
  },
  {
   "cell_type": "code",
   "execution_count": 54,
   "metadata": {
    "deletable": false,
    "editable": false
   },
   "outputs": [
    {
     "name": "stdout",
     "output_type": "stream",
     "text": [
      "=== Summary ===\n",
      "    \n",
      "K_v =  1675 [RPM/V]\n",
      "K_t = 10.0 [mN-m/A]\n",
      "Torque = 0.0042 [N-m] = 0.0009 [ft-lb_f]\n",
      "    \n",
      "Power In = 45.6 [W]\n",
      "Power Loss (Resistive)  = 1.44 [W]\n",
      "Power Loss (Iron/Bearings) = 0.04 [W]\n",
      "Power Out = 44 [W]\n",
      "Efficiency = 96.7 [%]\n"
     ]
    }
   ],
   "source": [
    "## ------- Brushless Motor Parameterization: -----------  \n",
    "# See Hendershot and Miller for more information on motor constants.  \n",
    "# To compare the following are needed:  kv [rpm/V], resistance [ohm], No-load Current [A],\n",
    "#                                       Dimensions, Recommended Propeller Size\n",
    "# Note: K_v is line-to-line voltage not phase voltage, which underestimates delta wound torque by sqrt(2/3)\n",
    "#    & overestimates wye wound torque by sqrt(2). https://youtu.be/jrWDBkeOVQY?si=rGsagyh8TB_5rONt&t=719\n",
    "\n",
    "## Given:\n",
    "I = 3 # [Amps]\n",
    "V = 15.2 # [Volts], 4S == 15.2-16.8 Volts\n",
    "winding = \"wye\" # \"wye\" or \"delta\"\n",
    "pole_pairs = 6\n",
    "\n",
    "## Measure:\n",
    "# Measure at 10V for reporting hobby motors\n",
    "K_v = 1675 # [rpm/V] # rpm per volt_line-to-line\n",
    "\n",
    "# Measure average of three legs of the winding.\n",
    "R_ll = 0.32 # [Ohm] # Line-to-line resistance, \n",
    "\n",
    "# Measure current draw at highest signal from ESC with no load.\n",
    "I_No_Load = 0.11 # [A/V] # Guess. Use to calculate I_0.\n",
    "\n",
    "# Drive Motor with drill and measure line-to-line voltage, cycles/sec\n",
    "V_ll = 4.8 # [V], value will be V_AC_rms\n",
    "omega = 2*pi * 151.5 # [rad/s] # Measure [Hertz], convert to [rad/s]: 151.5 [1/s]\n",
    "\n",
    "## Calculations:  \n",
    "I_0 = I_No_Load * V # [A], No Load Current at rated voltage (10V Default)\n",
    "\n",
    "K_t = V_ll / (sqrt(2/3) * omega * (2*pi) / pole_pairs) # [N-m/A] or [V-s/rad], Torque Constant: Drive motor with drill and measure, See note 2. \n",
    "\n",
    "TAU_SI = 1/sqrt(2) * 1/K_v * I; # [N-m]\n",
    "TAU_Eng = TAU_SI * (0.7376/1); # [ft-lb_f], (0.7376 ft-lb_f / 1 N-m)\" \n",
    "\n",
    "# Power\n",
    "P_in = I*V # [W]# Input Power\n",
    "\n",
    "if winding == \"delta\": R_phase = 3/2 * R_ll # Compensates for delta or Wye connection.\n",
    "elif winding == \"wye\": R_phase = 1/2 * R_ll\n",
    "P_resistance = I**2 * R_phase; # [W], Copper power losses\n",
    "\n",
    "P_other = I_0 * R_phase**2 # [W], Iron and bearing losses\n",
    "\n",
    "P_out = P_in - P_resistance - P_other\n",
    "\n",
    "# Efficiency\n",
    "eta = P_out / P_in\n",
    "\n",
    "# Reporting:\n",
    "print('=== Summary ===')\n",
    "print('    ')\n",
    "print('K_v = ', K_v, '[RPM/V]')\n",
    "print('K_t =', round(K_t,2)*1000, '[mN-m/A]' ) # Hobby motors described in mN-m/A .\n",
    "print('Torque =', round(Torque,4), \"[N-m] =\", round(TAU_Eng,4), \"[ft-lb_f]\" )# Torque # [N-m]\n",
    "print('    ')\n",
    "print(\"Power In =\", round(P_in,2) , '[W]') \n",
    "print('Power Loss (Resistive)  =', P_resistance,\"[W]\"  )\n",
    "print('Power Loss (Iron/Bearings) =', round(P_other,2), '[W]')\n",
    "print('Power Out =', round(P_out), '[W]')\n",
    "print('Efficiency =', round(eta*100,1), '[%]')"
   ]
  },
  {
   "cell_type": "code",
   "execution_count": null,
   "metadata": {},
   "outputs": [],
   "source": []
  }
 ],
 "metadata": {
  "kernelspec": {
   "display_name": "Python 3",
   "language": "python",
   "name": "python3"
  },
  "language_info": {
   "codemirror_mode": {
    "name": "ipython",
    "version": 3
   },
   "file_extension": ".py",
   "mimetype": "text/x-python",
   "name": "python",
   "nbconvert_exporter": "python",
   "pygments_lexer": "ipython3",
   "version": "3.6.5"
  },
  "toc": {
   "base_numbering": 1,
   "nav_menu": {
    "height": "254px",
    "width": "253px"
   },
   "number_sections": true,
   "sideBar": true,
   "skip_h1_title": true,
   "title_cell": "Table of Contents",
   "title_sidebar": "Contents",
   "toc_cell": true,
   "toc_position": {
    "height": "calc(100% - 180px)",
    "left": "10px",
    "top": "150px",
    "width": "240px"
   },
   "toc_section_display": "block",
   "toc_window_display": false
  }
 },
 "nbformat": 4,
 "nbformat_minor": 2
}
